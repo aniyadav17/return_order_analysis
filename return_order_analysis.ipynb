{
 "cells": [
  {
   "cell_type": "markdown",
   "id": "103f12eb-c7ea-4f94-b71a-a22efd083dc2",
   "metadata": {},
   "source": [
    "#### Step 1: Define the Real-Life Question (Business Objective)\n",
    "Ask a clear and specific question that is relevant to the problem you're solving.\n",
    "\n",
    "✅Question (E-commerce):\n",
    "\"Which products have the highest return rate, and what are the reasons for returns?\""
   ]
  },
  {
   "cell_type": "markdown",
   "id": "913c0b9f-4bd3-4306-b2ae-3fd0dc3f2458",
   "metadata": {},
   "source": [
    "#### Step 2: Collect the Right Data\n",
    "Gather relevant data from various sources:\n",
    "\n",
    "[Sales Data]\n",
    "[Return Data]\n",
    "[Customer Reviews]\n",
    "[Customer Profiles]"
   ]
  },
  {
   "cell_type": "markdown",
   "id": "c9ff77af-f1c9-4190-a2ab-a490b14233f5",
   "metadata": {},
   "source": [
    "####  Step 3: Clean and Prepare the Data\n",
    "Before analysis, clean the dataset by:\n",
    "✅ Removing duplicates.\n",
    "✅ Handling missing values \n",
    "✅ Standardizing formats "
   ]
  },
  {
   "cell_type": "code",
   "execution_count": 4,
   "id": "c9f7bbff-023e-4c6c-a234-7291370cd0e5",
   "metadata": {},
   "outputs": [],
   "source": [
    "# Step 1 Firstly import the pandas module\n",
    "import pandas as pd"
   ]
  },
  {
   "cell_type": "code",
   "execution_count": 6,
   "id": "07411429-5d7d-4b93-aa8b-a81a16d5e003",
   "metadata": {},
   "outputs": [],
   "source": [
    "# Step 2 Read the dataset\n",
    "df = pd.read_csv(r\"C:\\Users\\anily\\Desktop\\Jupyter Projects\\return_data.csv\")"
   ]
  },
  {
   "cell_type": "code",
   "execution_count": 8,
   "id": "da9e9f75-33c6-4a95-839e-5568a3feb523",
   "metadata": {},
   "outputs": [],
   "source": [
    "# step 2 - Drop duplicates\n",
    "df = df.drop_duplicates()"
   ]
  },
  {
   "cell_type": "code",
   "execution_count": 10,
   "id": "bf646aec-e12a-46b6-ae0c-0faed96336b3",
   "metadata": {},
   "outputs": [],
   "source": [
    "# step 3 - Fill missing return reason with \"unknown\" \n",
    "df[\"Return Reason\"] = df[\"Return Reason\"].fillna(\"Unknown\")"
   ]
  },
  {
   "cell_type": "code",
   "execution_count": 12,
   "id": "0e339da5-522e-40df-b2a2-e4e494187d38",
   "metadata": {},
   "outputs": [],
   "source": [
    "# step 4 - convert return date in to date time format\n",
    "df[\"Return Date\"] = pd.to_datetime(df[\"Return Date\"])"
   ]
  },
  {
   "cell_type": "code",
   "execution_count": 14,
   "id": "02a9e328-0d1d-4c68-916b-4843310affe3",
   "metadata": {},
   "outputs": [
    {
     "data": {
      "text/html": [
       "<div>\n",
       "<style scoped>\n",
       "    .dataframe tbody tr th:only-of-type {\n",
       "        vertical-align: middle;\n",
       "    }\n",
       "\n",
       "    .dataframe tbody tr th {\n",
       "        vertical-align: top;\n",
       "    }\n",
       "\n",
       "    .dataframe thead th {\n",
       "        text-align: right;\n",
       "    }\n",
       "</style>\n",
       "<table border=\"1\" class=\"dataframe\">\n",
       "  <thead>\n",
       "    <tr style=\"text-align: right;\">\n",
       "      <th></th>\n",
       "      <th>Order ID</th>\n",
       "      <th>Product</th>\n",
       "      <th>Category</th>\n",
       "      <th>Return Reason</th>\n",
       "      <th>Customer Type</th>\n",
       "      <th>Return Date</th>\n",
       "    </tr>\n",
       "  </thead>\n",
       "  <tbody>\n",
       "    <tr>\n",
       "      <th>0</th>\n",
       "      <td>101</td>\n",
       "      <td>Shoes</td>\n",
       "      <td>Apparel</td>\n",
       "      <td>Wrong Size</td>\n",
       "      <td>New</td>\n",
       "      <td>2025-01-01</td>\n",
       "    </tr>\n",
       "    <tr>\n",
       "      <th>1</th>\n",
       "      <td>102</td>\n",
       "      <td>Laptop</td>\n",
       "      <td>Electronics</td>\n",
       "      <td>Defective Item</td>\n",
       "      <td>Returning</td>\n",
       "      <td>2025-02-01</td>\n",
       "    </tr>\n",
       "    <tr>\n",
       "      <th>2</th>\n",
       "      <td>103</td>\n",
       "      <td>Shirt</td>\n",
       "      <td>Apparel</td>\n",
       "      <td>Color Mismatch</td>\n",
       "      <td>New</td>\n",
       "      <td>2025-03-01</td>\n",
       "    </tr>\n",
       "    <tr>\n",
       "      <th>3</th>\n",
       "      <td>104</td>\n",
       "      <td>Phone</td>\n",
       "      <td>Electronics</td>\n",
       "      <td>Late Delivery</td>\n",
       "      <td>New</td>\n",
       "      <td>2025-04-01</td>\n",
       "    </tr>\n",
       "    <tr>\n",
       "      <th>4</th>\n",
       "      <td>105</td>\n",
       "      <td>Watch</td>\n",
       "      <td>Accessories</td>\n",
       "      <td>Other</td>\n",
       "      <td>Returning</td>\n",
       "      <td>2025-05-01</td>\n",
       "    </tr>\n",
       "  </tbody>\n",
       "</table>\n",
       "</div>"
      ],
      "text/plain": [
       "   Order ID Product     Category   Return Reason Customer Type Return Date\n",
       "0       101   Shoes      Apparel      Wrong Size           New  2025-01-01\n",
       "1       102  Laptop  Electronics  Defective Item     Returning  2025-02-01\n",
       "2       103   Shirt      Apparel  Color Mismatch           New  2025-03-01\n",
       "3       104   Phone  Electronics   Late Delivery           New  2025-04-01\n",
       "4       105   Watch  Accessories           Other     Returning  2025-05-01"
      ]
     },
     "execution_count": 14,
     "metadata": {},
     "output_type": "execute_result"
    }
   ],
   "source": [
    "# step 5 Head function shows you top 5 record\n",
    "df.head()"
   ]
  },
  {
   "cell_type": "markdown",
   "id": "63ebc6df-3bf0-401c-97e9-25bab9b766bc",
   "metadata": {},
   "source": [
    "#### Perform exploratory data analysis"
   ]
  },
  {
   "cell_type": "code",
   "execution_count": 16,
   "id": "357c1dbb-4850-48d3-bf8b-2944fc7e5469",
   "metadata": {},
   "outputs": [
    {
     "data": {
      "text/plain": [
       "Return Reason\n",
       "Wrong Size        4\n",
       "Defective Item    2\n",
       "Other             2\n",
       "Color Mismatch    1\n",
       "Late Delivery     1\n",
       "Name: count, dtype: int64"
      ]
     },
     "execution_count": 16,
     "metadata": {},
     "output_type": "execute_result"
    }
   ],
   "source": [
    "# Step 6 count return reason\n",
    "df[\"Return Reason\"].value_counts().head(5)"
   ]
  },
  {
   "cell_type": "markdown",
   "id": "b600cc3b-5e6b-41c4-836d-dd1e143e2df1",
   "metadata": {},
   "source": [
    "#### Conclusion"
   ]
  },
  {
   "cell_type": "code",
   "execution_count": 62,
   "id": "7cb0ef8b-d96d-4bca-893d-bc169774289b",
   "metadata": {},
   "outputs": [],
   "source": [
    "# Step 7  Wrong size is the most common return reason, meaning company should improve its size guide"
   ]
  },
  {
   "cell_type": "markdown",
   "id": "f5f5fb56-9a89-492e-bd32-ffdbb5bb3698",
   "metadata": {},
   "source": [
    "#### Visualize the insights"
   ]
  },
  {
   "cell_type": "code",
   "execution_count": 18,
   "id": "09da615b-7cfb-43d6-8327-99826b3cd166",
   "metadata": {},
   "outputs": [
    {
     "data": {
      "image/png": "[encoded data removed]",
      "text/plain": [
       "<Figure size 640x480 with 1 Axes>"
      ]
     },
     "metadata": {},
     "output_type": "display_data"
    }
   ],
   "source": [
    "# Step 8 Visualization the insight\n",
    "\n",
    "import matplotlib.pyplot as plt\n",
    "df[\"Return Reason\"].value_counts().plot(kind=\"bar\", color=\"green\")\n",
    "plt.title(\"Top Return Reasons\")\n",
    "plt.xlabel(\"Return Reason\")\n",
    "plt.ylabel(\"Count\")\n",
    "plt.show()"
   ]
  },
  {
   "cell_type": "markdown",
   "id": "346ed63b-8456-4b0b-b1e7-70a4c6e331bb",
   "metadata": {},
   "source": [
    "#### Step 6: Make Data-Driven Decisions\n"
   ]
  },
  {
   "cell_type": "markdown",
   "id": "ca38f95e-ae34-43e1-b84b-d78a6f6359f5",
   "metadata": {},
   "source": [
    "##### Based on findings, take action:\n",
    "✅ If \"Wrong Size\" is the biggest issue → Improve size guides, add virtual fitting tools.\n",
    "✅If \"Defective Items\" are common → Work with suppliers to improve quality control.\n",
    "✅ If a product category has excessive returns → Consider removing or redesigning it."
   ]
  },
  {
   "cell_type": "markdown",
   "id": "0608bed3-f34c-44b5-80f5-3b47146f1cdc",
   "metadata": {},
   "source": [
    "#### Step 7: Monitor and Improve\n",
    "✅Track if return rates decrease after implementing solutions.\n",
    "✅Continuously analyze new return data."
   ]
  },
  {
   "cell_type": "markdown",
   "id": "1d68a86b-c605-4595-933f-1c85a4b3041b",
   "metadata": {},
   "source": []
  },
  {
   "cell_type": "code",
   "execution_count": null,
   "id": "9591b785-30ad-4778-b880-ecb7e42018f4",
   "metadata": {},
   "outputs": [],
   "source": []
  }
 ],
 "metadata": {
  "kernelspec": {
   "display_name": "Python [conda env:base] *",
   "language": "python",
   "name": "conda-base-py"
  },
  "language_info": {
   "codemirror_mode": {
    "name": "ipython",
    "version": 3
   },
   "file_extension": ".py",
   "mimetype": "text/x-python",
   "name": "python",
   "nbconvert_exporter": "python",
   "pygments_lexer": "ipython3",
   "version": "3.12.7"
  }
 },
 "nbformat": 4,
 "nbformat_minor": 5
}
